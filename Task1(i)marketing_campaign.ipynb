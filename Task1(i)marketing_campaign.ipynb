{
 "cells": [
  {
   "cell_type": "markdown",
   "id": "6c2d474c",
   "metadata": {},
   "source": [
    "# Data Cleaning and Preprocessing in Python (Pandas)"
   ]
  },
  {
   "cell_type": "code",
   "execution_count": null,
   "id": "1b52ec9e",
   "metadata": {},
   "outputs": [],
   "source": [
    "import pandas as pd\n",
    "\n",
    "# Load the dataset (if it's in the same folder)\n",
    "df = pd.read_csv(\"marketing_campaign.csv\", sep='\\t')  # adjust 'sep' if needed\n",
    "df.head()"
   ]
  },
  {
   "cell_type": "markdown",
   "id": "af560e72",
   "metadata": {},
   "source": [
    "## Step 1: Explore Dataset"
   ]
  },
  {
   "cell_type": "code",
   "execution_count": null,
   "id": "6cad13fd",
   "metadata": {},
   "outputs": [],
   "source": [
    "# Display basic info and stats\n",
    "print(df.info())\n",
    "print(df.describe())"
   ]
  },
  {
   "cell_type": "markdown",
   "id": "6ccaa9d7",
   "metadata": {},
   "source": [
    "## Step 2: Handle Missing Values"
   ]
  },
  {
   "cell_type": "code",
   "execution_count": null,
   "id": "3ba02363",
   "metadata": {},
   "outputs": [],
   "source": [
    "# Check for missing values\n",
    "print(df.isnull().sum())\n",
    "\n",
    "# Fill missing Income values with median\n",
    "df['Income'].fillna(df['Income'].median(), inplace=True)"
   ]
  },
  {
   "cell_type": "markdown",
   "id": "44a6b56a",
   "metadata": {},
   "source": [
    "## Step 3: Remove Duplicates"
   ]
  },
  {
   "cell_type": "code",
   "execution_count": null,
   "id": "9a65d216",
   "metadata": {},
   "outputs": [],
   "source": [
    "# Drop duplicate rows\n",
    "df.drop_duplicates(inplace=True)"
   ]
  },
  {
   "cell_type": "markdown",
   "id": "867fd291",
   "metadata": {},
   "source": [
    "## Step 4: Convert Data Types"
   ]
  },
  {
   "cell_type": "code",
   "execution_count": null,
   "id": "0f06ea5e",
   "metadata": {},
   "outputs": [],
   "source": [
    "# Convert Dt_Customer to datetime\n",
    "df['Dt_Customer'] = pd.to_datetime(df['Dt_Customer'], format='%d-%m-%Y')"
   ]
  },
  {
   "cell_type": "markdown",
   "id": "6248c66b",
   "metadata": {},
   "source": [
    "## Step 5: Clean Inconsistent Categorical Values"
   ]
  },
  {
   "cell_type": "code",
   "execution_count": null,
   "id": "a02a7866",
   "metadata": {},
   "outputs": [],
   "source": [
    "# Replace inconsistent Marital_Status entries\n",
    "df['Marital_Status'] = df['Marital_Status'].replace({\n",
    "    'Alone': 'Single',\n",
    "    'Absurd': 'Single',\n",
    "    'YOLO': 'Single'\n",
    "})"
   ]
  },
  {
   "cell_type": "markdown",
   "id": "2c0714d1",
   "metadata": {},
   "source": [
    "## Step 6: Save Cleaned Dataset"
   ]
  },
  {
   "cell_type": "code",
   "execution_count": null,
   "id": "a24d4d69",
   "metadata": {},
   "outputs": [],
   "source": [
    "# Save cleaned dataset to CSV\n",
    "df.to_csv(\"cleaned_marketing_campaign.csv\", index=False)"
   ]
  },
  {
   "cell_type": "markdown",
   "id": "43b55aeb",
   "metadata": {},
   "source": [
    "## ✅ Final Check"
   ]
  },
  {
   "cell_type": "code",
   "execution_count": null,
   "id": "31aef427",
   "metadata": {},
   "outputs": [],
   "source": [
    "print(\"✅ Cleaning Completed\")\n",
    "print(f\"Shape: {df.shape}\")\n",
    "print(\"Missing values:\\n\", df.isnull().sum())"
   ]
  }
 ],
 "metadata": {
  "language": "python"
 },
 "nbformat": 4,
 "nbformat_minor": 5
}